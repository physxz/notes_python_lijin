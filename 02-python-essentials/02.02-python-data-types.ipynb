{
 "cells": [
  {
   "cell_type": "markdown",
   "metadata": {},
   "source": [
    "# Python数据类型"
   ]
  },
  {
   "cell_type": "markdown",
   "metadata": {},
   "source": [
    "## 常用数据类型"
   ]
  },
  {
   "cell_type": "markdown",
   "metadata": {},
   "source": [
    "|类型|例子|\n",
    "|---|---|\n",
    "|整数|-100|\n",
    "|浮点数|0.2|\n",
    "|字符串|'hello'|\n",
    "|列表|[1,2,'hello']|\n",
    "|numpy数组|array([1,2,3])|\n",
    "|字典|{'dogs':5,'cats':6}|"
   ]
  },
  {
   "cell_type": "markdown",
   "metadata": {},
   "source": [
    "## 其他数据类型"
   ]
  },
  {
   "cell_type": "markdown",
   "metadata": {},
   "source": [
    "在Python 3里，只有一种整数类型 int，表示为长整型，没有 python2 中的 Long。"
   ]
  },
  {
   "cell_type": "markdown",
   "metadata": {},
   "source": [
    "|类型|例子|\n",
    "|---|---|\n",
    "|元组|('ring',1000)|\n",
    "|集合|{1,2,3}|\n",
    "|长整型|1000000000000L|\n",
    "|布尔型|True,False|\n",
    "|Pandas类型|DataFrame,Series|\n",
    "|自定义|Object Oriented Classes|"
   ]
  }
 ],
 "metadata": {
  "interpreter": {
   "hash": "916dbcbb3f70747c44a77c7bcd40155683ae19c65e1c03b4aa3499c5328201f1"
  },
  "kernelspec": {
   "display_name": "Python 3.8.10 64-bit",
   "language": "python",
   "name": "python3"
  },
  "language_info": {
   "name": "python",
   "version": "3.8.10"
  },
  "orig_nbformat": 4
 },
 "nbformat": 4,
 "nbformat_minor": 2
}
