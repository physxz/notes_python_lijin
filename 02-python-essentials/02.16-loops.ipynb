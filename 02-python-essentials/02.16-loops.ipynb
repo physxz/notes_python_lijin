{
 "cells": [
  {
   "cell_type": "markdown",
   "metadata": {},
   "source": [
    "# 循环"
   ]
  },
  {
   "cell_type": "markdown",
   "metadata": {},
   "source": [
    "## while循环"
   ]
  },
  {
   "cell_type": "code",
   "execution_count": 6,
   "metadata": {},
   "outputs": [
    {
     "name": "stdout",
     "output_type": "stream",
     "text": [
      "5050\n"
     ]
    }
   ],
   "source": [
    "i = 0\n",
    "total = 0\n",
    "while i < 100:\n",
    "    i += 1\n",
    "    total += i\n",
    "print(total)"
   ]
  },
  {
   "cell_type": "markdown",
   "metadata": {},
   "source": [
    "循环每次从plays中弹出一个元素，并返回给play，一直到plays为空为止。"
   ]
  },
  {
   "cell_type": "code",
   "execution_count": 8,
   "metadata": {},
   "outputs": [
    {
     "name": "stdout",
     "output_type": "stream",
     "text": [
      "Perform Macbeth\n",
      "Perform King Lear\n",
      "Perform Hamlet\n"
     ]
    }
   ],
   "source": [
    "plays = set(['Hamlet','Macbeth','King Lear'])\n",
    "while plays:\n",
    "    play = plays.pop()\n",
    "    print('Perform',play)"
   ]
  },
  {
   "cell_type": "markdown",
   "metadata": {},
   "source": [
    "## for循环"
   ]
  },
  {
   "cell_type": "code",
   "execution_count": 9,
   "metadata": {},
   "outputs": [
    {
     "name": "stdout",
     "output_type": "stream",
     "text": [
      "Perform Macbeth\n",
      "Perform King Lear\n",
      "Perform Hamlet\n"
     ]
    }
   ],
   "source": [
    "plays = set(['Hamlet','Macbeth','King Lear'])\n",
    "for play in plays: print('Perform',play)"
   ]
  },
  {
   "cell_type": "markdown",
   "metadata": {},
   "source": [
    "使用for循环时，注意尽量不要改变plays的值，否则可能会产生意想不到的结果。"
   ]
  },
  {
   "cell_type": "code",
   "execution_count": 13,
   "metadata": {},
   "outputs": [
    {
     "name": "stdout",
     "output_type": "stream",
     "text": [
      "5050\n"
     ]
    }
   ],
   "source": [
    "total = 0\n",
    "for i in range(0,100):\n",
    "    i += 1\n",
    "    total += i\n",
    "print(total)"
   ]
  },
  {
   "cell_type": "markdown",
   "metadata": {},
   "source": [
    "但是这种写法有一个缺点，在循环前会生成一个长度为100的临时列表。这样会消耗时间和内存。为了解决这个问题，可以使用`xrange`替代，其效果与`range`函数一样，但不会一次性产生所有的数据。（针对python2）\\\n",
    "python3中的`range`就是python2中的`xrange`，python2中的`range`在python3中应该表示为`list(range())`"
   ]
  },
  {
   "cell_type": "markdown",
   "metadata": {},
   "source": [
    "## continue语句"
   ]
  },
  {
   "cell_type": "code",
   "execution_count": 17,
   "metadata": {},
   "outputs": [
    {
     "name": "stdout",
     "output_type": "stream",
     "text": [
      "3.0\n",
      "2.0\n",
      "1.0\n"
     ]
    }
   ],
   "source": [
    "values = [7,6,4,7,19,2,1]\n",
    "for i in values:\n",
    "    if i % 2 != 0: # 忽略奇数\n",
    "        continue\n",
    "    print(i/2)"
   ]
  },
  {
   "cell_type": "markdown",
   "metadata": {},
   "source": [
    "## break语句"
   ]
  },
  {
   "cell_type": "code",
   "execution_count": 20,
   "metadata": {},
   "outputs": [
    {
     "name": "stdout",
     "output_type": "stream",
     "text": [
      "start\n",
      "process\n",
      "process\n",
      "process\n"
     ]
    }
   ],
   "source": [
    "command_list = ['start','process','process','process','stop','start','process','stop']\n",
    "while command_list:\n",
    "    command = command_list.pop(0)\n",
    "    if command == 'stop':\n",
    "        break\n",
    "    print(command)"
   ]
  },
  {
   "cell_type": "markdown",
   "metadata": {},
   "source": [
    "## else语句"
   ]
  },
  {
   "cell_type": "markdown",
   "metadata": {},
   "source": [
    "while和for循环后面也可以跟着else语句，不过要和break一起使用。（《Effective Python》第12条：不要使用for/else和while/else）\n",
    "- 当循环正常结束时，循环条件不满足，else被执行；\n",
    "- 当循环被break结束时，循环条件仍然满足，else不执行。"
   ]
  },
  {
   "cell_type": "code",
   "execution_count": 21,
   "metadata": {},
   "outputs": [
    {
     "name": "stdout",
     "output_type": "stream",
     "text": [
      "Found 7\n"
     ]
    }
   ],
   "source": [
    "values = [7,6,4,7,19,2,1]\n",
    "for i in values:\n",
    "    if i <= 10:\n",
    "        print('Found',i)\n",
    "        break\n",
    "else:\n",
    "    print('All value greater than 10')"
   ]
  },
  {
   "cell_type": "code",
   "execution_count": 22,
   "metadata": {},
   "outputs": [
    {
     "name": "stdout",
     "output_type": "stream",
     "text": [
      "All value greater than 10\n"
     ]
    }
   ],
   "source": [
    "values = [11,12,13,100]\n",
    "for i in values:\n",
    "    if i <= 10:\n",
    "        print('Found',i)\n",
    "        break\n",
    "else:\n",
    "    print('All value greater than 10')"
   ]
  }
 ],
 "metadata": {
  "interpreter": {
   "hash": "916dbcbb3f70747c44a77c7bcd40155683ae19c65e1c03b4aa3499c5328201f1"
  },
  "kernelspec": {
   "display_name": "Python 3.8.10 64-bit",
   "language": "python",
   "name": "python3"
  },
  "language_info": {
   "codemirror_mode": {
    "name": "ipython",
    "version": 3
   },
   "file_extension": ".py",
   "mimetype": "text/x-python",
   "name": "python",
   "nbconvert_exporter": "python",
   "pygments_lexer": "ipython3",
   "version": "3.8.10"
  },
  "orig_nbformat": 4
 },
 "nbformat": 4,
 "nbformat_minor": 2
}
