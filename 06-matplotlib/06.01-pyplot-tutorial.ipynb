{
 "cells": [
  {
   "cell_type": "markdown",
   "metadata": {},
   "source": [
    "# Pyplot 教程"
   ]
  },
  {
   "cell_type": "markdown",
   "metadata": {},
   "source": [
    "## Matplotlib 简介"
   ]
  },
  {
   "cell_type": "markdown",
   "metadata": {},
   "source": [
    "**`matplotlib`** 是一个 **`Python`** 的 `2D` 图形包。\n",
    "\n",
    "在线文档：http://matplotlib.org ，提供了 [Examples](http://matplotlib.org/examples/index.html), [FAQ](http://matplotlib.org/faq/index.html), [API](http://matplotlib.org/contents.html), [Gallery](http://matplotlib.org/gallery.html)，其中 [Gallery](http://matplotlib.org/gallery.html) 是很有用的一个部分，因为它提供了各种画图方式的可视化，方便用户根据需求进行选择。"
   ]
  },
  {
   "cell_type": "markdown",
   "metadata": {},
   "source": [
    "## 使用 Pyplot"
   ]
  },
  {
   "cell_type": "markdown",
   "metadata": {},
   "source": [
    "导入相关的包："
   ]
  },
  {
   "cell_type": "code",
   "execution_count": 1,
   "metadata": {},
   "outputs": [],
   "source": [
    "import numpy as np\n",
    "import matplotlib.pyplot as plt"
   ]
  },
  {
   "cell_type": "markdown",
   "metadata": {},
   "source": [
    "`matplotlib.pyplot` 包含一系列类似 **`MATLAB`** 中绘图函数的相关函数。每个 `matplotlib.pyplot` 中的函数对当前的图像进行一些修改，例如：产生新的图像，在图像中产生新的绘图区域，在绘图区域中画线，给绘图加上标记，等等…… `matplotlib.pyplot` 会自动记住当前的图像和绘图区域，因此这些函数会直接作用在当前的图像上。\n",
    "\n",
    "下文中，以 `plt` 作为 `matplotlib.pyplot` 的省略。"
   ]
  },
  {
   "cell_type": "markdown",
   "metadata": {},
   "source": [
    "## plt.show() 函数"
   ]
  },
  {
   "cell_type": "markdown",
   "metadata": {},
   "source": [
    "默认情况下，`matplotlib.pyplot` 不会直接显示图像，只有调用 `plt.show()` 函数时，图像才会显示出来。\n",
    "\n",
    "`plt.show()` 默认是在新窗口打开一幅图像，并且提供了对图像进行操作的按钮。\n",
    "\n",
    "不过在 `ipython` 命令行中，我们可以使用 `magic` 命令将它插入 `notebook` 中，并且不需要调用 `plt.show()` 也可以显示：\n",
    "\n",
    "- `%matplotlib notebook`\n",
    "- `%matplotlib inline`\n",
    "\n",
    "不过在实际写程序中，我们还是需要调用 `plt.show()` 函数将图像显示出来。\n",
    "\n",
    "这里我们使图像输出在 `notebook` 中："
   ]
  },
  {
   "cell_type": "markdown",
   "metadata": {},
   "source": [
    "## plt.plot() 函数"
   ]
  },
  {
   "cell_type": "markdown",
   "metadata": {},
   "source": [
    "### 例子"
   ]
  },
  {
   "cell_type": "markdown",
   "metadata": {},
   "source": [
    "`plt.plot()` 函数可以用来绘图："
   ]
  },
  {
   "cell_type": "code",
   "execution_count": 12,
   "metadata": {},
   "outputs": [
    {
     "data": {
      "text/plain": [
       "Text(0, 0.5, 'some numbers')"
      ]
     },
     "execution_count": 12,
     "metadata": {},
     "output_type": "execute_result"
    },
    {
     "data": {
      "image/png": "[encoded data removed]",
      "text/plain": [
       "<Figure size 432x288 with 1 Axes>"
      ]
     },
     "metadata": {
      "needs_background": "light"
     },
     "output_type": "display_data"
    }
   ],
   "source": [
    "plt.plot([1,2,3,4])\n",
    "plt.ylabel('some numbers')"
   ]
  },
  {
   "cell_type": "markdown",
   "metadata": {},
   "source": [
    "### 基本用法"
   ]
  },
  {
   "cell_type": "markdown",
   "metadata": {},
   "source": [
    "`plot` 函数基本的用法有以下四种：\n",
    "\n",
    "默认参数\n",
    "- `plt.plot(x,y)` \n",
    "\n",
    "指定参数\n",
    "- `plt.plot(x,y, format_str)`\n",
    "\n",
    "默认参数，`x` 为 `0~N-1`\n",
    "- `plt.plot(y)`\n",
    "\n",
    "指定参数，`x` 为 `0~N-1`\n",
    "- `plt.plot(y, format_str)`\n",
    "\n",
    "因此，在上面的例子中，我们没有给定 `x` 的值，所以其默认值为 `[0,1,2,3]`。\n",
    "\n",
    "传入 `x` 和 `y`： "
   ]
  },
  {
   "cell_type": "code",
   "execution_count": 13,
   "metadata": {},
   "outputs": [
    {
     "data": {
      "text/plain": [
       "[<matplotlib.lines.Line2D at 0x7f84f52aa220>]"
      ]
     },
     "execution_count": 13,
     "metadata": {},
     "output_type": "execute_result"
    },
    {
     "data": {
      "image/png": "[encoded data removed]",
      "text/plain": [
       "<Figure size 432x288 with 1 Axes>"
      ]
     },
     "metadata": {
      "needs_background": "light"
     },
     "output_type": "display_data"
    }
   ],
   "source": [
    "plt.plot([1,2,3,4], [1,4,9,16])"
   ]
  },
  {
   "cell_type": "markdown",
   "metadata": {},
   "source": [
    "### 字符参数"
   ]
  },
  {
   "cell_type": "markdown",
   "metadata": {},
   "source": [
    "和 **`MATLAB`** 中类似，我们还可以用字符来指定绘图的格式：\n",
    "\n",
    "表示颜色的字符参数有：\n",
    "\n",
    "字符 | 颜色\n",
    "-- | -- \n",
    "`‘b’`|\t蓝色，blue\n",
    "`‘g’`|\t绿色，green\n",
    "`‘r’`|\t红色，red\n",
    "`‘c’`|\t青色，cyan\n",
    "`‘m’`|\t品红，magenta\n",
    "`‘y’`|\t黄色，yellow\n",
    "`‘k’`|\t黑色，black\n",
    "`‘w’`|\t白色，white\n",
    "\n",
    "表示类型的字符参数有：\n",
    "\n",
    "字符|类型 | 字符|类型\n",
    "---|--- | --- | ---\n",
    "`  '-'\t`| 实线 | `'--'`|\t虚线\n",
    "`'-.'`|\t虚点线 | `':'`|\t点线\n",
    "`'.'`|\t点 | `','`| 像素点\n",
    "`'o'`\t|圆点 | `'v'`|\t下三角点\n",
    "`'^'`|\t上三角点 | `'<'`|\t左三角点\n",
    "`'>'`|\t右三角点 | `'1'`|\t下三叉点\n",
    "`'2'`|\t上三叉点 | `'3'`|\t左三叉点\n",
    "`'4'`|\t右三叉点 | `'s'`|\t正方点\n",
    "`'p'`\t| 五角点 | `'*'`|\t星形点\n",
    "`'h'`|\t六边形点1 | `'H'`|\t六边形点2 \n",
    "`'+'`|\t加号点 | `'x'`|\t乘号点\n",
    "`'D'`|\t实心菱形点 | `'d'`|\t瘦菱形点 \n",
    "`'_'`|\t横线点 | |\n",
    "\n",
    "例如我们要画出红色圆点："
   ]
  },
  {
   "cell_type": "code",
   "execution_count": 14,
   "metadata": {},
   "outputs": [
    {
     "data": {
      "text/plain": [
       "[<matplotlib.lines.Line2D at 0x7f84f52115e0>]"
      ]
     },
     "execution_count": 14,
     "metadata": {},
     "output_type": "execute_result"
    },
    {
     "data": {
      "image/png": "[encoded data removed]",
      "text/plain": [
       "<Figure size 432x288 with 1 Axes>"
      ]
     },
     "metadata": {
      "needs_background": "light"
     },
     "output_type": "display_data"
    }
   ],
   "source": [
    "plt.plot([1,2,3,4], [1,4,9,16], 'ro')"
   ]
  },
  {
   "cell_type": "markdown",
   "metadata": {},
   "source": [
    "### 显示范围"
   ]
  },
  {
   "cell_type": "markdown",
   "metadata": {},
   "source": [
    "与 **`MATLAB`** 类似，这里可以使用 `axis` 函数指定坐标轴显示的范围：\n",
    "\n",
    "    plt.axis([xmin, xmax, ymin, ymax])"
   ]
  },
  {
   "cell_type": "code",
   "execution_count": 16,
   "metadata": {},
   "outputs": [
    {
     "data": {
      "text/plain": [
       "(0.0, 6.0, 0.0, 20.0)"
      ]
     },
     "execution_count": 16,
     "metadata": {},
     "output_type": "execute_result"
    },
    {
     "data": {
      "image/png": "[encoded data removed]",
      "text/plain": [
       "<Figure size 432x288 with 1 Axes>"
      ]
     },
     "metadata": {
      "needs_background": "light"
     },
     "output_type": "display_data"
    }
   ],
   "source": [
    "plt.plot([1,2,3,4], [1,4,9,16], 'ro')\n",
    "plt.axis([0,6,0,20])"
   ]
  },
  {
   "cell_type": "markdown",
   "metadata": {},
   "source": [
    "### 传入 `Numpy` 数组"
   ]
  },
  {
   "cell_type": "markdown",
   "metadata": {},
   "source": [
    "之前我们传给 `plot` 的参数都是列表，事实上，向 `plot` 中传入 `numpy` 数组是更常用的做法。事实上，如果传入的是列表，`matplotlib` 会在内部将它转化成数组再进行处理："
   ]
  },
  {
   "cell_type": "code",
   "execution_count": 17,
   "metadata": {},
   "outputs": [
    {
     "data": {
      "text/plain": [
       "[<matplotlib.lines.Line2D at 0x7f84f50df1f0>,\n",
       " <matplotlib.lines.Line2D at 0x7f84f50df100>,\n",
       " <matplotlib.lines.Line2D at 0x7f84f50df2e0>]"
      ]
     },
     "execution_count": 17,
     "metadata": {},
     "output_type": "execute_result"
    },
    {
     "data": {
      "image/png": "[encoded data removed]",
      "text/plain": [
       "<Figure size 432x288 with 1 Axes>"
      ]
     },
     "metadata": {
      "needs_background": "light"
     },
     "output_type": "display_data"
    }
   ],
   "source": [
    "t = np.arange(0,5,0.2)\n",
    "plt.plot(t, t, 'r--',\n",
    "         t, t**2, 'bs',\n",
    "         t, t**3, 'g^')"
   ]
  },
  {
   "cell_type": "markdown",
   "metadata": {},
   "source": [
    "### 传入多组数据"
   ]
  },
  {
   "cell_type": "markdown",
   "metadata": {},
   "source": [
    "事实上，在上面的例子中，我们不仅仅向 `plot` 函数传入了数组，还传入了多组 `(x,y,format_str)` 参数，它们在同一张图上显示。\n",
    "\n",
    "这意味着我们不需要使用多个 `plot` 函数来画多组数组，只需要可以将这些组合放到一个 `plot` 函数中去即可。"
   ]
  },
  {
   "cell_type": "markdown",
   "metadata": {},
   "source": [
    "### 线条属性"
   ]
  },
  {
   "cell_type": "markdown",
   "metadata": {},
   "source": [
    "之前提到，我们可以用字符串来控制线条的属性，事实上还可以通过关键词来改变线条的性质，例如 `linwidth` 可以改变线条的宽度，`color` 可以改变线条的颜色："
   ]
  },
  {
   "cell_type": "code",
   "execution_count": 18,
   "metadata": {},
   "outputs": [
    {
     "data": {
      "text/plain": [
       "[<matplotlib.lines.Line2D at 0x7f84f5046790>]"
      ]
     },
     "execution_count": 18,
     "metadata": {},
     "output_type": "execute_result"
    },
    {
     "data": {
      "image/png": "[encoded data removed]",
      "text/plain": [
       "<Figure size 432x288 with 1 Axes>"
      ]
     },
     "metadata": {
      "needs_background": "light"
     },
     "output_type": "display_data"
    }
   ],
   "source": [
    "x = np.linspace(-np.pi, np.pi)\n",
    "y = np.sin(x)\n",
    "plt.plot(x, y, linewidth=2, color='r')"
   ]
  },
  {
   "cell_type": "markdown",
   "metadata": {},
   "source": [
    "### 使用 plt.plot() 的返回值来设置线条属性"
   ]
  },
  {
   "cell_type": "markdown",
   "metadata": {},
   "source": [
    "`plot` 函数返回一个 `Line2D` 对象组成的列表，每个对象代表输入的一对组合，例如：\n",
    "\n",
    "- line1, line2 为两个 Line2D 对象\n",
    "\n",
    "    `line1, line2 = plt.plot(x1, y1, x2, y2)`\n",
    "\n",
    "- 返回 3 个 Line2D 对象组成的列表\n",
    "\n",
    "    `lines = plt.plot(x1, y1, x2, y2, x3, y3)`\n",
    "\n",
    "我们可以使用这个返回值来对线条属性进行设置："
   ]
  },
  {
   "cell_type": "code",
   "execution_count": 33,
   "metadata": {},
   "outputs": [
    {
     "data": {
      "image/png": "[encoded data removed]",
      "text/plain": [
       "<Figure size 432x288 with 1 Axes>"
      ]
     },
     "metadata": {
      "needs_background": "light"
     },
     "output_type": "display_data"
    }
   ],
   "source": [
    "line, = plt.plot(x,y,'r-')\n",
    "line.set_antialiased(False) # 关闭抗锯齿"
   ]
  },
  {
   "cell_type": "markdown",
   "metadata": {},
   "source": [
    "### plt.setp() 修改线条性质"
   ]
  },
  {
   "cell_type": "markdown",
   "metadata": {},
   "source": [
    "更方便的做法是使用 `plt` 的 `setp` 函数："
   ]
  },
  {
   "cell_type": "code",
   "execution_count": 41,
   "metadata": {},
   "outputs": [
    {
     "data": {
      "text/plain": [
       "[None, None]"
      ]
     },
     "execution_count": 41,
     "metadata": {},
     "output_type": "execute_result"
    },
    {
     "data": {
      "image/png": "[encoded data removed]",
      "text/plain": [
       "<Figure size 432x288 with 1 Axes>"
      ]
     },
     "metadata": {
      "needs_background": "light"
     },
     "output_type": "display_data"
    }
   ],
   "source": [
    "lines = plt.plot(x,y)\n",
    "plt.setp(lines, color='r', linewidth=2) # 使用键值对\n",
    "# plt.setp(lines, 'color', 'r', 'linewidth', 2) # 使用MATLAB风格的字符串对"
   ]
  },
  {
   "cell_type": "markdown",
   "metadata": {},
   "source": [
    "可以设置的属性有很多，可以使用 `plt.setp(lines)` 查看 `lines` 可以设置的属性，各属性的含义可参考 `matplotlib` 的文档。"
   ]
  },
  {
   "cell_type": "code",
   "execution_count": 42,
   "metadata": {},
   "outputs": [
    {
     "name": "stdout",
     "output_type": "stream",
     "text": [
      "  agg_filter: a filter function, which takes a (m, n, 3) float array and a dpi value, and returns a (m, n, 3) array\n",
      "  alpha: scalar or None\n",
      "  animated: bool\n",
      "  antialiased or aa: bool\n",
      "  clip_box: `.Bbox`\n",
      "  clip_on: bool\n",
      "  clip_path: Patch or (Path, Transform) or None\n",
      "  color or c: color\n",
      "  dash_capstyle: `.CapStyle` or {'butt', 'projecting', 'round'}\n",
      "  dash_joinstyle: `.JoinStyle` or {'miter', 'round', 'bevel'}\n",
      "  dashes: sequence of floats (on/off ink in points) or (None, None)\n",
      "  data: (2, N) array or two 1D arrays\n",
      "  drawstyle or ds: {'default', 'steps', 'steps-pre', 'steps-mid', 'steps-post'}, default: 'default'\n",
      "  figure: `.Figure`\n",
      "  fillstyle: {'full', 'left', 'right', 'bottom', 'top', 'none'}\n",
      "  gid: str\n",
      "  in_layout: bool\n",
      "  label: object\n",
      "  linestyle or ls: {'-', '--', '-.', ':', '', (offset, on-off-seq), ...}\n",
      "  linewidth or lw: float\n",
      "  marker: marker style string, `~.path.Path` or `~.markers.MarkerStyle`\n",
      "  markeredgecolor or mec: color\n",
      "  markeredgewidth or mew: float\n",
      "  markerfacecolor or mfc: color\n",
      "  markerfacecoloralt or mfcalt: color\n",
      "  markersize or ms: float\n",
      "  markevery: None or int or (int, int) or slice or list[int] or float or (float, float) or list[bool]\n",
      "  path_effects: `.AbstractPathEffect`\n",
      "  picker: float or callable[[Artist, Event], tuple[bool, dict]]\n",
      "  pickradius: float\n",
      "  rasterized: bool\n",
      "  sketch_params: (scale: float, length: float, randomness: float)\n",
      "  snap: bool or None\n",
      "  solid_capstyle: `.CapStyle` or {'butt', 'projecting', 'round'}\n",
      "  solid_joinstyle: `.JoinStyle` or {'miter', 'round', 'bevel'}\n",
      "  transform: `.Transform`\n",
      "  url: str\n",
      "  visible: bool\n",
      "  xdata: 1D array\n",
      "  ydata: 1D array\n",
      "  zorder: float\n"
     ]
    }
   ],
   "source": [
    "plt.setp(lines)"
   ]
  },
  {
   "cell_type": "markdown",
   "metadata": {
    "collapsed": true
   },
   "source": [
    "## 子图"
   ]
  },
  {
   "cell_type": "markdown",
   "metadata": {},
   "source": [
    "`figure()` 函数会产生一个指定编号为 `num` 的图：\n",
    "\n",
    "    plt.figure(num)\n",
    "\n",
    "这里，`figure(1)` 其实是可以省略的，因为默认情况下 `plt` 会自动产生一幅图像。\n",
    "\n",
    "使用 `subplot` 可以在一副图中生成多个子图，其参数为：\n",
    "\n",
    "    plt.subplot(numrows, numcols, fignum)\n",
    "\n",
    "当 `numrows * numcols < 10` 时，中间的逗号可以省略，因此 `plt.subplot(211)` 就相当于 `plt.subplot(2,1,1)`。"
   ]
  },
  {
   "cell_type": "code",
   "execution_count": 43,
   "metadata": {},
   "outputs": [
    {
     "data": {
      "text/plain": [
       "[<matplotlib.lines.Line2D at 0x7f84f4e4fcd0>]"
      ]
     },
     "execution_count": 43,
     "metadata": {},
     "output_type": "execute_result"
    },
    {
     "data": {
      "image/png": "[encoded data removed]",
      "text/plain": [
       "<Figure size 432x288 with 2 Axes>"
      ]
     },
     "metadata": {
      "needs_background": "light"
     },
     "output_type": "display_data"
    }
   ],
   "source": [
    "def f(t):\n",
    "    return np.exp(-t) * np.cos(2*np.pi*t)\n",
    "\n",
    "t1 = np.arange(0,5,0.1)\n",
    "t2 = np.arange(0,5,0.02)\n",
    "plt.figure(1)\n",
    "plt.subplot(211)\n",
    "plt.plot(t1, f(t1), 'bo', t2, f(t2), 'k')\n",
    "\n",
    "plt.subplot(212)\n",
    "plt.plot(t2, np.cos(2*np.pi*t2), 'r--')"
   ]
  },
  {
   "cell_type": "markdown",
   "metadata": {
    "collapsed": true
   },
   "source": [
    "## 图形上加上文字"
   ]
  },
  {
   "cell_type": "markdown",
   "metadata": {
    "collapsed": true
   },
   "source": [
    "`plt.hist()` 可以用来画直方图。"
   ]
  },
  {
   "cell_type": "code",
   "execution_count": 71,
   "metadata": {},
   "outputs": [
    {
     "data": {
      "image/png": "[encoded data removed]",
      "text/plain": [
       "<Figure size 432x288 with 1 Axes>"
      ]
     },
     "metadata": {
      "needs_background": "light"
     },
     "output_type": "display_data"
    }
   ],
   "source": [
    "mu, sigma = 100, 15\n",
    "x = mu + sigma * np.random.randn(10000)\n",
    "n, bins, patches = plt.hist(x, 50, density=1, facecolor='g', alpha=0.75)\n",
    "\n",
    "plt.xlabel('Smarts')\n",
    "plt.ylabel('Probability')\n",
    "plt.title('Histogram of IQ')\n",
    "plt.text(50, 0.025, '$\\mu=100, \\sigma=15$')\n",
    "plt.axis([40, 160, 0, 0.03])\n",
    "plt.grid(True)"
   ]
  },
  {
   "cell_type": "markdown",
   "metadata": {},
   "source": [
    "对于这幅图形，我们使用 `xlabel` ，`ylabel`，`title`，`text` 方法设置了文字，其中：\n",
    "\n",
    "- `xlabel` ：x 轴标注\n",
    "\n",
    "- `ylabel` ：y 轴标注\n",
    "\n",
    "- `title` ：图形标题\n",
    "\n",
    "- `text` ：在指定位置放入文字\n",
    "\n",
    "输入特殊符号支持使用 `Tex` 语法，用 `$<some Tex code>$` 隔开。\n",
    "\n",
    "除了使用 `text` 在指定位置标上文字之外，还可以使用 `annotate` 函数进行注释，`annotate` 主要有两个参数：\n",
    "\n",
    "- `xy` ：注释位置 \n",
    "- `xytext` ：注释文字位置"
   ]
  },
  {
   "cell_type": "code",
   "execution_count": 79,
   "metadata": {},
   "outputs": [
    {
     "data": {
      "text/plain": [
       "(-2.0, 2.0)"
      ]
     },
     "execution_count": 79,
     "metadata": {},
     "output_type": "execute_result"
    },
    {
     "data": {
      "image/png": "[encoded data removed]",
      "text/plain": [
       "<Figure size 432x288 with 1 Axes>"
      ]
     },
     "metadata": {
      "needs_background": "light"
     },
     "output_type": "display_data"
    }
   ],
   "source": [
    "t = np.arange(0, 5, 0.01)\n",
    "s = np.cos(2*np.pi*t)\n",
    "line, = plt.plot(t, s, lw=2)\n",
    "plt.annotate('local max', xy=(2,1), xytext=(3, 1.5),\n",
    "             arrowprops=dict(facecolor='black', shrink=0.05))\n",
    "plt.ylim(-2,2)"
   ]
  }
 ],
 "metadata": {
  "interpreter": {
   "hash": "3d597f4c481aa0f25dceb95d2a0067e73c0966dcbd003d741d821a7208527ecf"
  },
  "kernelspec": {
   "display_name": "Python 3.9.12 ('base')",
   "language": "python",
   "name": "python3"
  },
  "language_info": {
   "codemirror_mode": {
    "name": "ipython",
    "version": 3
   },
   "file_extension": ".py",
   "mimetype": "text/x-python",
   "name": "python",
   "nbconvert_exporter": "python",
   "pygments_lexer": "ipython3",
   "version": "3.9.12"
  },
  "orig_nbformat": 4
 },
 "nbformat": 4,
 "nbformat_minor": 2
}
