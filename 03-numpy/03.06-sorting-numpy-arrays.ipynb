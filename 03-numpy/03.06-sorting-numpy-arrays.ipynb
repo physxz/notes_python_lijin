{
 "cells": [
  {
   "cell_type": "markdown",
   "metadata": {},
   "source": [
    "# 数组排序"
   ]
  },
  {
   "cell_type": "code",
   "execution_count": 1,
   "metadata": {},
   "outputs": [
    {
     "name": "stdout",
     "output_type": "stream",
     "text": [
      "Using matplotlib backend: <object object at 0x7fdfb506c450>\n",
      "Populating the interactive namespace from numpy and matplotlib\n"
     ]
    }
   ],
   "source": [
    "%pylab"
   ]
  },
  {
   "cell_type": "markdown",
   "metadata": {},
   "source": [
    "## sort函数"
   ]
  },
  {
   "cell_type": "code",
   "execution_count": 2,
   "metadata": {},
   "outputs": [
    {
     "data": {
      "text/plain": [
       "array([20.8, 53.4, 61.8, 93.2])"
      ]
     },
     "execution_count": 2,
     "metadata": {},
     "output_type": "execute_result"
    }
   ],
   "source": [
    "names = array(['bob','sue','jan','ad'])\n",
    "weights = array([20.8,93.2,53.4,61.8])\n",
    "sort(weights)"
   ]
  },
  {
   "cell_type": "markdown",
   "metadata": {},
   "source": [
    "## argsort函数"
   ]
  },
  {
   "cell_type": "code",
   "execution_count": 3,
   "metadata": {},
   "outputs": [
    {
     "data": {
      "text/plain": [
       "array([0, 2, 3, 1])"
      ]
     },
     "execution_count": 3,
     "metadata": {},
     "output_type": "execute_result"
    }
   ],
   "source": [
    "ordered_indices = argsort(weights)\n",
    "ordered_indices"
   ]
  },
  {
   "cell_type": "code",
   "execution_count": 4,
   "metadata": {},
   "outputs": [
    {
     "data": {
      "text/plain": [
       "array([20.8, 53.4, 61.8, 93.2])"
      ]
     },
     "execution_count": 4,
     "metadata": {},
     "output_type": "execute_result"
    }
   ],
   "source": [
    "weights[ordered_indices]"
   ]
  },
  {
   "cell_type": "code",
   "execution_count": 5,
   "metadata": {},
   "outputs": [
    {
     "data": {
      "text/plain": [
       "array(['bob', 'jan', 'ad', 'sue'], dtype='<U3')"
      ]
     },
     "execution_count": 5,
     "metadata": {},
     "output_type": "execute_result"
    }
   ],
   "source": [
    "names[ordered_indices]"
   ]
  },
  {
   "cell_type": "code",
   "execution_count": 6,
   "metadata": {},
   "outputs": [
    {
     "data": {
      "text/plain": [
       "array([20.8, 93.2, 53.4, 61.8])"
      ]
     },
     "execution_count": 6,
     "metadata": {},
     "output_type": "execute_result"
    }
   ],
   "source": [
    "weights # 原值不改变"
   ]
  },
  {
   "cell_type": "markdown",
   "metadata": {},
   "source": [
    "## sort和argsort方法"
   ]
  },
  {
   "cell_type": "code",
   "execution_count": 7,
   "metadata": {},
   "outputs": [
    {
     "data": {
      "text/plain": [
       "array([0, 2, 3, 1])"
      ]
     },
     "execution_count": 7,
     "metadata": {},
     "output_type": "execute_result"
    }
   ],
   "source": [
    "data = array([20.8,93.2,53.4,61.8])\n",
    "data.argsort()"
   ]
  },
  {
   "cell_type": "code",
   "execution_count": 8,
   "metadata": {},
   "outputs": [
    {
     "data": {
      "text/plain": [
       "array([20.8, 93.2, 53.4, 61.8])"
      ]
     },
     "execution_count": 8,
     "metadata": {},
     "output_type": "execute_result"
    }
   ],
   "source": [
    "data"
   ]
  },
  {
   "cell_type": "markdown",
   "metadata": {},
   "source": [
    "argsort方法和argsort函数没什么区别，也不会改变数组的值。但是sort方法会改变数组的值。"
   ]
  },
  {
   "cell_type": "code",
   "execution_count": 9,
   "metadata": {},
   "outputs": [],
   "source": [
    "data.sort()"
   ]
  },
  {
   "cell_type": "code",
   "execution_count": 10,
   "metadata": {},
   "outputs": [
    {
     "data": {
      "text/plain": [
       "array([20.8, 53.4, 61.8, 93.2])"
      ]
     },
     "execution_count": 10,
     "metadata": {},
     "output_type": "execute_result"
    }
   ],
   "source": [
    "data"
   ]
  },
  {
   "cell_type": "markdown",
   "metadata": {},
   "source": [
    "## 二维数组排序"
   ]
  },
  {
   "cell_type": "markdown",
   "metadata": {},
   "source": [
    "对于多维数组，sort方法默认沿着最后一维开始排序。"
   ]
  },
  {
   "cell_type": "code",
   "execution_count": 19,
   "metadata": {},
   "outputs": [
    {
     "data": {
      "text/plain": [
       "array([[0.2, 0.9, 0.5],\n",
       "       [0.4, 0.8, 0.3],\n",
       "       [0.9, 0.1, 0.7]])"
      ]
     },
     "execution_count": 19,
     "metadata": {},
     "output_type": "execute_result"
    }
   ],
   "source": [
    "a = array([[.2,.9,.5],[.4,.8,.3],[.9,.1,.7]])\n",
    "a"
   ]
  },
  {
   "cell_type": "code",
   "execution_count": 20,
   "metadata": {},
   "outputs": [
    {
     "data": {
      "text/plain": [
       "array([[0.2, 0.5, 0.9],\n",
       "       [0.3, 0.4, 0.8],\n",
       "       [0.1, 0.7, 0.9]])"
      ]
     },
     "execution_count": 20,
     "metadata": {},
     "output_type": "execute_result"
    }
   ],
   "source": [
    "sort(a)"
   ]
  },
  {
   "cell_type": "code",
   "execution_count": 21,
   "metadata": {},
   "outputs": [
    {
     "data": {
      "text/plain": [
       "array([[0.2, 0.1, 0.3],\n",
       "       [0.4, 0.8, 0.5],\n",
       "       [0.9, 0.9, 0.7]])"
      ]
     },
     "execution_count": 21,
     "metadata": {},
     "output_type": "execute_result"
    }
   ],
   "source": [
    "sort(a,axis=0)"
   ]
  },
  {
   "cell_type": "markdown",
   "metadata": {},
   "source": [
    "## searchsorted函数"
   ]
  },
  {
   "cell_type": "markdown",
   "metadata": {},
   "source": [
    "searchsorted接收两个参数，第一个参数必须是已排序的数组。"
   ]
  },
  {
   "cell_type": "code",
   "execution_count": 23,
   "metadata": {},
   "outputs": [],
   "source": [
    "sorted_array = linspace(0,1,5)\n",
    "values = array([.1,.8,.3,.12,.5,.25])"
   ]
  },
  {
   "cell_type": "code",
   "execution_count": 24,
   "metadata": {},
   "outputs": [
    {
     "data": {
      "text/plain": [
       "array([1, 4, 2, 1, 2, 1])"
      ]
     },
     "execution_count": 24,
     "metadata": {},
     "output_type": "execute_result"
    }
   ],
   "source": [
    "searchsorted(sorted_array,values)"
   ]
  },
  {
   "cell_type": "markdown",
   "metadata": {},
   "source": [
    "已排序数组：\n",
    "|0|1|2|3|4|\n",
    "|---|---|---|---|---|\n",
    "|0.0|0.25|0.5|0.75|1.0|\n",
    "\n",
    "数值：\n",
    "|值|0.1|0.8|0.3|0.12|0.5|0.25|\n",
    "|---|---|---|---|---|---|---|\n",
    "|插入的位置|1|4|2|1|2|1|\n",
    "\n",
    "searchsorted返回的值相当于保持第一个已排序数组的排序性质不变，将第二个数组中的值插入第一个数组中的位置。\\\n",
    "例如0.1在[0.0,0.25)之间，所以插入时应当放在第一个数组的索引1处，故第一个返回值为1。0.8在[0.75,1)之间，应该插入到索引4处，返回值为4。"
   ]
  },
  {
   "cell_type": "code",
   "execution_count": 32,
   "metadata": {},
   "outputs": [
    {
     "data": {
      "text/plain": [
       "array([0.00396254, 0.00418145, 0.00642876, 0.01547547, 0.01896098,\n",
       "       0.03463824, 0.04201433, 0.06143158, 0.0618612 , 0.06730142,\n",
       "       0.07162199, 0.09252206, 0.13525299, 0.14743984, 0.15387124,\n",
       "       0.16970741, 0.18096102, 0.18267382, 0.19064362, 0.19291908,\n",
       "       0.22115554, 0.22242407, 0.22557832, 0.24451814, 0.26233523,\n",
       "       0.27816866, 0.28412039, 0.29543102, 0.30155684, 0.30156197,\n",
       "       0.31866658, 0.31950282, 0.32703552, 0.33304478, 0.33493743,\n",
       "       0.35681071, 0.35857264, 0.37107571, 0.37788197, 0.3934908 ,\n",
       "       0.41122796, 0.41479871, 0.4244008 , 0.43927913, 0.45981088,\n",
       "       0.47314678, 0.47804788, 0.49762758, 0.49799217, 0.51581739,\n",
       "       0.51829203, 0.51916705, 0.53759384, 0.54165502, 0.57631899,\n",
       "       0.58192017, 0.60775372, 0.62110031, 0.63215503, 0.64743353,\n",
       "       0.65212825, 0.65402209, 0.656202  , 0.6674789 , 0.6723371 ,\n",
       "       0.67983324, 0.68463319, 0.69612967, 0.69733891, 0.73969081,\n",
       "       0.73973141, 0.74532771, 0.74922072, 0.75856772, 0.77209259,\n",
       "       0.78335981, 0.79829482, 0.81277252, 0.81306445, 0.83765142,\n",
       "       0.85926373, 0.89436348, 0.89577981, 0.90836787, 0.91761461,\n",
       "       0.9294347 , 0.94271354, 0.94626385, 0.94862252, 0.95169237,\n",
       "       0.95872438, 0.95983672, 0.96107572, 0.96760384, 0.97722875,\n",
       "       0.97874086, 0.97906403, 0.98267383, 0.98856005, 0.99494692])"
      ]
     },
     "execution_count": 32,
     "metadata": {},
     "output_type": "execute_result"
    }
   ],
   "source": [
    "from numpy.random import rand\n",
    "data = rand(100)\n",
    "data.sort()\n",
    "data"
   ]
  },
  {
   "cell_type": "code",
   "execution_count": 33,
   "metadata": {},
   "outputs": [
    {
     "data": {
      "text/plain": [
       "(0.4, 0.6)"
      ]
     },
     "execution_count": 33,
     "metadata": {},
     "output_type": "execute_result"
    }
   ],
   "source": [
    "bounds = .4,.6 # 不加括号默认是元组。\n",
    "bounds"
   ]
  },
  {
   "cell_type": "code",
   "execution_count": 35,
   "metadata": {},
   "outputs": [
    {
     "data": {
      "text/plain": [
       "array([40, 56])"
      ]
     },
     "execution_count": 35,
     "metadata": {},
     "output_type": "execute_result"
    }
   ],
   "source": [
    "searchsorted(data,bounds)"
   ]
  },
  {
   "cell_type": "code",
   "execution_count": 27,
   "metadata": {},
   "outputs": [],
   "source": [
    "low_idx,high_indx = searchsorted(data,bounds)"
   ]
  },
  {
   "cell_type": "code",
   "execution_count": 28,
   "metadata": {},
   "outputs": [
    {
     "data": {
      "text/plain": [
       "array([0.41410646, 0.4315108 , 0.43413592, 0.43693485, 0.43794136,\n",
       "       0.44401401, 0.4460299 , 0.44747381, 0.45061309, 0.45911391,\n",
       "       0.46514117, 0.47074297, 0.48166101, 0.49026264, 0.51386808,\n",
       "       0.51723726, 0.53108669, 0.54765049, 0.55580354, 0.57252293,\n",
       "       0.58219751, 0.58228214, 0.58265779, 0.58273938])"
      ]
     },
     "execution_count": 28,
     "metadata": {},
     "output_type": "execute_result"
    }
   ],
   "source": [
    "data[low_idx:high_indx] # 索引值在40-56之间的对应元素值，或者说是0.4-0.6之间的值"
   ]
  }
 ],
 "metadata": {
  "interpreter": {
   "hash": "916dbcbb3f70747c44a77c7bcd40155683ae19c65e1c03b4aa3499c5328201f1"
  },
  "kernelspec": {
   "display_name": "Python 3.8.10 64-bit",
   "language": "python",
   "name": "python3"
  },
  "language_info": {
   "codemirror_mode": {
    "name": "ipython",
    "version": 3
   },
   "file_extension": ".py",
   "mimetype": "text/x-python",
   "name": "python",
   "nbconvert_exporter": "python",
   "pygments_lexer": "ipython3",
   "version": "3.8.10"
  },
  "orig_nbformat": 4
 },
 "nbformat": 4,
 "nbformat_minor": 2
}
