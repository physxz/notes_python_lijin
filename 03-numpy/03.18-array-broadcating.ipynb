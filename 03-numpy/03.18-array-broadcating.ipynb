{
 "cells": [
  {
   "cell_type": "markdown",
   "metadata": {},
   "source": [
    "# 数组广播机制"
   ]
  },
  {
   "cell_type": "code",
   "execution_count": 1,
   "metadata": {},
   "outputs": [],
   "source": [
    "import numpy as np"
   ]
  },
  {
   "cell_type": "markdown",
   "metadata": {},
   "source": [
    "正常的加法"
   ]
  },
  {
   "cell_type": "code",
   "execution_count": 2,
   "metadata": {},
   "outputs": [
    {
     "data": {
      "text/plain": [
       "array([[ 0,  1,  2],\n",
       "       [10, 11, 12],\n",
       "       [20, 21, 22],\n",
       "       [30, 31, 32]])"
      ]
     },
     "execution_count": 2,
     "metadata": {},
     "output_type": "execute_result"
    }
   ],
   "source": [
    "a = np.array([[0,0,0], [10,10,10], [20,20,20], [30,30,30]])\n",
    "b = np.array([[0,1,2], [0,1,2], [0,1,2], [0,1,2]])\n",
    "a + b"
   ]
  },
  {
   "cell_type": "markdown",
   "metadata": {},
   "source": [
    "将 `b` 的值变为一维的 `[0,1,2]` 之后的加法"
   ]
  },
  {
   "cell_type": "code",
   "execution_count": 3,
   "metadata": {},
   "outputs": [
    {
     "data": {
      "text/plain": [
       "array([[ 0,  1,  2],\n",
       "       [10, 11, 12],\n",
       "       [20, 21, 22],\n",
       "       [30, 31, 32]])"
      ]
     },
     "execution_count": 3,
     "metadata": {},
     "output_type": "execute_result"
    }
   ],
   "source": [
    "b = np.array([0,1,2])\n",
    "a + b"
   ]
  },
  {
   "cell_type": "markdown",
   "metadata": {},
   "source": [
    "结果一样，虽然两个数组的维数不同，但是numpy检测到 b 的维度与 a 的维度匹配，所以将 b 扩展为之前的形式，得到相同的形状。\n",
    "\n",
    "对于更高维度，这样的扩展仍然有效\n",
    "\n",
    "将 a 变成一个列向量"
   ]
  },
  {
   "cell_type": "code",
   "execution_count": 7,
   "metadata": {},
   "outputs": [
    {
     "data": {
      "text/plain": [
       "array([[ 0],\n",
       "       [10],\n",
       "       [20],\n",
       "       [30]])"
      ]
     },
     "execution_count": 7,
     "metadata": {},
     "output_type": "execute_result"
    }
   ],
   "source": [
    "a = np.array([0, 10, 20, 30])\n",
    "a.shape = 4, 1\n",
    "a"
   ]
  },
  {
   "cell_type": "code",
   "execution_count": 8,
   "metadata": {},
   "outputs": [
    {
     "data": {
      "text/plain": [
       "array([0, 1, 2])"
      ]
     },
     "execution_count": 8,
     "metadata": {},
     "output_type": "execute_result"
    }
   ],
   "source": [
    "b"
   ]
  },
  {
   "cell_type": "code",
   "execution_count": 9,
   "metadata": {},
   "outputs": [
    {
     "data": {
      "text/plain": [
       "array([[ 0,  1,  2],\n",
       "       [10, 11, 12],\n",
       "       [20, 21, 22],\n",
       "       [30, 31, 32]])"
      ]
     },
     "execution_count": 9,
     "metadata": {},
     "output_type": "execute_result"
    }
   ],
   "source": [
    "a + b"
   ]
  },
  {
   "cell_type": "markdown",
   "metadata": {},
   "source": [
    "虽然两者维度不同，但numpy仍然根据两者的维度，自动将他们扩展然后进行计算\n",
    "\n",
    "\n",
    "对于numpy来说，维度匹配当且仅当：\n",
    "\n",
    "- 维度相同\n",
    "- 有一个的维度是1\n",
    "\n",
    "匹配从最后一维开始进行，直到某一个的维度全部匹配为止，因此对于以下情况，numpy都会进行相应的匹配：\n",
    "\n",
    "|A|B|Result|\n",
    "|---|---|---|\n",
    "|3d array: 256x256x3|1d array: 3      |3d array: 256x256x3|\n",
    "|4d array: 8x1x6x1  |1d array: 7x1x5  |3d array: 8x7x6x5|\n",
    "|3d array: 5x4x3    |1d array: 1      |3d array: 5x4x3|\n",
    "|3d array: 15x14x13 |1d array: 15x1x13|3d array: 15x4x13|\n",
    "|2d array: 4x1      |1d array: 3      |2d array: 4x3|\n",
    "\n",
    "匹配成功后，numpy会进行运算得到相应的结果。如果相应的维度不匹配，numpy会报错\n"
   ]
  },
  {
   "cell_type": "code",
   "execution_count": 10,
   "metadata": {},
   "outputs": [
    {
     "data": {
      "text/plain": [
       "(4,)"
      ]
     },
     "execution_count": 10,
     "metadata": {},
     "output_type": "execute_result"
    }
   ],
   "source": [
    "a = np.array([0,10,20,30])\n",
    "a.shape"
   ]
  },
  {
   "cell_type": "code",
   "execution_count": 11,
   "metadata": {},
   "outputs": [
    {
     "data": {
      "text/plain": [
       "(3,)"
      ]
     },
     "execution_count": 11,
     "metadata": {},
     "output_type": "execute_result"
    }
   ],
   "source": [
    "b.shape"
   ]
  },
  {
   "cell_type": "code",
   "execution_count": 12,
   "metadata": {},
   "outputs": [
    {
     "ename": "ValueError",
     "evalue": "operands could not be broadcast together with shapes (4,) (3,) ",
     "output_type": "error",
     "traceback": [
      "\u001b[1;31m---------------------------------------------------------------------------\u001b[0m",
      "\u001b[1;31mValueError\u001b[0m                                Traceback (most recent call last)",
      "\u001b[1;32m~\\AppData\\Local\\Temp/ipykernel_8220/1216668022.py\u001b[0m in \u001b[0;36m<module>\u001b[1;34m\u001b[0m\n\u001b[1;32m----> 1\u001b[1;33m \u001b[0ma\u001b[0m \u001b[1;33m+\u001b[0m \u001b[0mb\u001b[0m\u001b[1;33m\u001b[0m\u001b[1;33m\u001b[0m\u001b[0m\n\u001b[0m",
      "\u001b[1;31mValueError\u001b[0m: operands could not be broadcast together with shapes (4,) (3,) "
     ]
    }
   ],
   "source": [
    "a + b"
   ]
  },
  {
   "cell_type": "markdown",
   "metadata": {},
   "source": [
    "将 a 转换为列向量，还是可以计算出结果"
   ]
  },
  {
   "cell_type": "code",
   "execution_count": 13,
   "metadata": {},
   "outputs": [
    {
     "data": {
      "text/plain": [
       "array([[ 0,  1,  2],\n",
       "       [10, 11, 12],\n",
       "       [20, 21, 22],\n",
       "       [30, 31, 32]])"
      ]
     },
     "execution_count": 13,
     "metadata": {},
     "output_type": "execute_result"
    }
   ],
   "source": [
    "a[:, np.newaxis] + b"
   ]
  },
  {
   "cell_type": "markdown",
   "metadata": {},
   "source": [
    "## 例子"
   ]
  },
  {
   "cell_type": "code",
   "execution_count": 72,
   "metadata": {},
   "outputs": [],
   "source": [
    "x =np.linspace(-0.5, 0.5, 21)"
   ]
  },
  {
   "cell_type": "code",
   "execution_count": 73,
   "metadata": {},
   "outputs": [],
   "source": [
    "y = x[:, np.newaxis]"
   ]
  },
  {
   "cell_type": "code",
   "execution_count": 78,
   "metadata": {},
   "outputs": [
    {
     "data": {
      "text/plain": [
       "array([-0.5 , -0.45, -0.4 , -0.35, -0.3 , -0.25, -0.2 , -0.15, -0.1 ,\n",
       "       -0.05,  0.  ,  0.05,  0.1 ,  0.15,  0.2 ,  0.25,  0.3 ,  0.35,\n",
       "        0.4 ,  0.45,  0.5 ])"
      ]
     },
     "execution_count": 78,
     "metadata": {},
     "output_type": "execute_result"
    }
   ],
   "source": [
    "x"
   ]
  },
  {
   "cell_type": "code",
   "execution_count": 79,
   "metadata": {},
   "outputs": [
    {
     "data": {
      "text/plain": [
       "array([[-0.5 ],\n",
       "       [-0.45],\n",
       "       [-0.4 ],\n",
       "       [-0.35],\n",
       "       [-0.3 ],\n",
       "       [-0.25],\n",
       "       [-0.2 ],\n",
       "       [-0.15],\n",
       "       [-0.1 ],\n",
       "       [-0.05],\n",
       "       [ 0.  ],\n",
       "       [ 0.05],\n",
       "       [ 0.1 ],\n",
       "       [ 0.15],\n",
       "       [ 0.2 ],\n",
       "       [ 0.25],\n",
       "       [ 0.3 ],\n",
       "       [ 0.35],\n",
       "       [ 0.4 ],\n",
       "       [ 0.45],\n",
       "       [ 0.5 ]])"
      ]
     },
     "execution_count": 79,
     "metadata": {},
     "output_type": "execute_result"
    }
   ],
   "source": [
    "y"
   ]
  },
  {
   "cell_type": "code",
   "execution_count": 74,
   "metadata": {},
   "outputs": [
    {
     "data": {
      "text/plain": [
       "(21,)"
      ]
     },
     "execution_count": 74,
     "metadata": {},
     "output_type": "execute_result"
    }
   ],
   "source": [
    "x.shape"
   ]
  },
  {
   "cell_type": "code",
   "execution_count": 75,
   "metadata": {},
   "outputs": [
    {
     "data": {
      "text/plain": [
       "(21, 1)"
      ]
     },
     "execution_count": 75,
     "metadata": {},
     "output_type": "execute_result"
    }
   ],
   "source": [
    "y.shape"
   ]
  },
  {
   "cell_type": "markdown",
   "metadata": {},
   "source": [
    "先形成一个21x21的网格，再计算网格到原点的距离"
   ]
  },
  {
   "cell_type": "code",
   "execution_count": 76,
   "metadata": {},
   "outputs": [],
   "source": [
    "radius = np.sqrt(x**2 + y**2)"
   ]
  },
  {
   "cell_type": "code",
   "execution_count": 80,
   "metadata": {},
   "outputs": [
    {
     "data": {
      "text/plain": [
       "array([[0.70710678, 0.6726812 , 0.64031242, 0.61032778, 0.58309519,\n",
       "        0.55901699, 0.53851648, 0.52201533, 0.50990195, 0.50249378,\n",
       "        0.5       , 0.50249378, 0.50990195, 0.52201533, 0.53851648,\n",
       "        0.55901699, 0.58309519, 0.61032778, 0.64031242, 0.6726812 ,\n",
       "        0.70710678],\n",
       "       [0.6726812 , 0.6363961 , 0.60207973, 0.57008771, 0.54083269,\n",
       "        0.51478151, 0.49244289, 0.47434165, 0.46097722, 0.45276926,\n",
       "        0.45      , 0.45276926, 0.46097722, 0.47434165, 0.49244289,\n",
       "        0.51478151, 0.54083269, 0.57008771, 0.60207973, 0.6363961 ,\n",
       "        0.6726812 ],\n",
       "       [0.64031242, 0.60207973, 0.56568542, 0.53150729, 0.5       ,\n",
       "        0.47169906, 0.4472136 , 0.42720019, 0.41231056, 0.40311289,\n",
       "        0.4       , 0.40311289, 0.41231056, 0.42720019, 0.4472136 ,\n",
       "        0.47169906, 0.5       , 0.53150729, 0.56568542, 0.60207973,\n",
       "        0.64031242],\n",
       "       [0.61032778, 0.57008771, 0.53150729, 0.49497475, 0.46097722,\n",
       "        0.43011626, 0.40311289, 0.38078866, 0.36400549, 0.35355339,\n",
       "        0.35      , 0.35355339, 0.36400549, 0.38078866, 0.40311289,\n",
       "        0.43011626, 0.46097722, 0.49497475, 0.53150729, 0.57008771,\n",
       "        0.61032778],\n",
       "       [0.58309519, 0.54083269, 0.5       , 0.46097722, 0.42426407,\n",
       "        0.39051248, 0.36055513, 0.3354102 , 0.31622777, 0.30413813,\n",
       "        0.3       , 0.30413813, 0.31622777, 0.3354102 , 0.36055513,\n",
       "        0.39051248, 0.42426407, 0.46097722, 0.5       , 0.54083269,\n",
       "        0.58309519],\n",
       "       [0.55901699, 0.51478151, 0.47169906, 0.43011626, 0.39051248,\n",
       "        0.35355339, 0.32015621, 0.29154759, 0.26925824, 0.25495098,\n",
       "        0.25      , 0.25495098, 0.26925824, 0.29154759, 0.32015621,\n",
       "        0.35355339, 0.39051248, 0.43011626, 0.47169906, 0.51478151,\n",
       "        0.55901699],\n",
       "       [0.53851648, 0.49244289, 0.4472136 , 0.40311289, 0.36055513,\n",
       "        0.32015621, 0.28284271, 0.25      , 0.2236068 , 0.20615528,\n",
       "        0.2       , 0.20615528, 0.2236068 , 0.25      , 0.28284271,\n",
       "        0.32015621, 0.36055513, 0.40311289, 0.4472136 , 0.49244289,\n",
       "        0.53851648],\n",
       "       [0.52201533, 0.47434165, 0.42720019, 0.38078866, 0.3354102 ,\n",
       "        0.29154759, 0.25      , 0.21213203, 0.18027756, 0.15811388,\n",
       "        0.15      , 0.15811388, 0.18027756, 0.21213203, 0.25      ,\n",
       "        0.29154759, 0.3354102 , 0.38078866, 0.42720019, 0.47434165,\n",
       "        0.52201533],\n",
       "       [0.50990195, 0.46097722, 0.41231056, 0.36400549, 0.31622777,\n",
       "        0.26925824, 0.2236068 , 0.18027756, 0.14142136, 0.1118034 ,\n",
       "        0.1       , 0.1118034 , 0.14142136, 0.18027756, 0.2236068 ,\n",
       "        0.26925824, 0.31622777, 0.36400549, 0.41231056, 0.46097722,\n",
       "        0.50990195],\n",
       "       [0.50249378, 0.45276926, 0.40311289, 0.35355339, 0.30413813,\n",
       "        0.25495098, 0.20615528, 0.15811388, 0.1118034 , 0.07071068,\n",
       "        0.05      , 0.07071068, 0.1118034 , 0.15811388, 0.20615528,\n",
       "        0.25495098, 0.30413813, 0.35355339, 0.40311289, 0.45276926,\n",
       "        0.50249378],\n",
       "       [0.5       , 0.45      , 0.4       , 0.35      , 0.3       ,\n",
       "        0.25      , 0.2       , 0.15      , 0.1       , 0.05      ,\n",
       "        0.        , 0.05      , 0.1       , 0.15      , 0.2       ,\n",
       "        0.25      , 0.3       , 0.35      , 0.4       , 0.45      ,\n",
       "        0.5       ],\n",
       "       [0.50249378, 0.45276926, 0.40311289, 0.35355339, 0.30413813,\n",
       "        0.25495098, 0.20615528, 0.15811388, 0.1118034 , 0.07071068,\n",
       "        0.05      , 0.07071068, 0.1118034 , 0.15811388, 0.20615528,\n",
       "        0.25495098, 0.30413813, 0.35355339, 0.40311289, 0.45276926,\n",
       "        0.50249378],\n",
       "       [0.50990195, 0.46097722, 0.41231056, 0.36400549, 0.31622777,\n",
       "        0.26925824, 0.2236068 , 0.18027756, 0.14142136, 0.1118034 ,\n",
       "        0.1       , 0.1118034 , 0.14142136, 0.18027756, 0.2236068 ,\n",
       "        0.26925824, 0.31622777, 0.36400549, 0.41231056, 0.46097722,\n",
       "        0.50990195],\n",
       "       [0.52201533, 0.47434165, 0.42720019, 0.38078866, 0.3354102 ,\n",
       "        0.29154759, 0.25      , 0.21213203, 0.18027756, 0.15811388,\n",
       "        0.15      , 0.15811388, 0.18027756, 0.21213203, 0.25      ,\n",
       "        0.29154759, 0.3354102 , 0.38078866, 0.42720019, 0.47434165,\n",
       "        0.52201533],\n",
       "       [0.53851648, 0.49244289, 0.4472136 , 0.40311289, 0.36055513,\n",
       "        0.32015621, 0.28284271, 0.25      , 0.2236068 , 0.20615528,\n",
       "        0.2       , 0.20615528, 0.2236068 , 0.25      , 0.28284271,\n",
       "        0.32015621, 0.36055513, 0.40311289, 0.4472136 , 0.49244289,\n",
       "        0.53851648],\n",
       "       [0.55901699, 0.51478151, 0.47169906, 0.43011626, 0.39051248,\n",
       "        0.35355339, 0.32015621, 0.29154759, 0.26925824, 0.25495098,\n",
       "        0.25      , 0.25495098, 0.26925824, 0.29154759, 0.32015621,\n",
       "        0.35355339, 0.39051248, 0.43011626, 0.47169906, 0.51478151,\n",
       "        0.55901699],\n",
       "       [0.58309519, 0.54083269, 0.5       , 0.46097722, 0.42426407,\n",
       "        0.39051248, 0.36055513, 0.3354102 , 0.31622777, 0.30413813,\n",
       "        0.3       , 0.30413813, 0.31622777, 0.3354102 , 0.36055513,\n",
       "        0.39051248, 0.42426407, 0.46097722, 0.5       , 0.54083269,\n",
       "        0.58309519],\n",
       "       [0.61032778, 0.57008771, 0.53150729, 0.49497475, 0.46097722,\n",
       "        0.43011626, 0.40311289, 0.38078866, 0.36400549, 0.35355339,\n",
       "        0.35      , 0.35355339, 0.36400549, 0.38078866, 0.40311289,\n",
       "        0.43011626, 0.46097722, 0.49497475, 0.53150729, 0.57008771,\n",
       "        0.61032778],\n",
       "       [0.64031242, 0.60207973, 0.56568542, 0.53150729, 0.5       ,\n",
       "        0.47169906, 0.4472136 , 0.42720019, 0.41231056, 0.40311289,\n",
       "        0.4       , 0.40311289, 0.41231056, 0.42720019, 0.4472136 ,\n",
       "        0.47169906, 0.5       , 0.53150729, 0.56568542, 0.60207973,\n",
       "        0.64031242],\n",
       "       [0.6726812 , 0.6363961 , 0.60207973, 0.57008771, 0.54083269,\n",
       "        0.51478151, 0.49244289, 0.47434165, 0.46097722, 0.45276926,\n",
       "        0.45      , 0.45276926, 0.46097722, 0.47434165, 0.49244289,\n",
       "        0.51478151, 0.54083269, 0.57008771, 0.60207973, 0.6363961 ,\n",
       "        0.6726812 ],\n",
       "       [0.70710678, 0.6726812 , 0.64031242, 0.61032778, 0.58309519,\n",
       "        0.55901699, 0.53851648, 0.52201533, 0.50990195, 0.50249378,\n",
       "        0.5       , 0.50249378, 0.50990195, 0.52201533, 0.53851648,\n",
       "        0.55901699, 0.58309519, 0.61032778, 0.64031242, 0.6726812 ,\n",
       "        0.70710678]])"
      ]
     },
     "execution_count": 80,
     "metadata": {},
     "output_type": "execute_result"
    }
   ],
   "source": [
    "radius"
   ]
  },
  {
   "cell_type": "markdown",
   "metadata": {},
   "source": [
    "将21x21个网格绘制在图中，(10,10)当然是中心位置，也就是圆心"
   ]
  },
  {
   "cell_type": "code",
   "execution_count": 77,
   "metadata": {},
   "outputs": [
    {
     "data": {
      "text/plain": [
       "<matplotlib.image.AxesImage at 0x28a1dff1fd0>"
      ]
     },
     "execution_count": 77,
     "metadata": {},
     "output_type": "execute_result"
    },
    {
     "data": {
      "image/png": "[encoded data removed]",
      "text/plain": [
       "<Figure size 432x288 with 1 Axes>"
      ]
     },
     "metadata": {
      "needs_background": "light"
     },
     "output_type": "display_data"
    }
   ],
   "source": [
    "import matplotlib.pyplot as plt\n",
    "%matplotlib inline\n",
    "\n",
    "plt.imshow(radius)"
   ]
  },
  {
   "cell_type": "code",
   "execution_count": null,
   "metadata": {},
   "outputs": [],
   "source": []
  }
 ],
 "metadata": {
  "interpreter": {
   "hash": "faba867834b34eec35dcb7fa692db274b1c4dbebf2da3669a9a092a6b946e3bd"
  },
  "kernelspec": {
   "display_name": "Python 3.9.1 64-bit",
   "language": "python",
   "name": "python3"
  },
  "language_info": {
   "codemirror_mode": {
    "name": "ipython",
    "version": 3
   },
   "file_extension": ".py",
   "mimetype": "text/x-python",
   "name": "python",
   "nbconvert_exporter": "python",
   "pygments_lexer": "ipython3",
   "version": "3.9.1"
  },
  "orig_nbformat": 4
 },
 "nbformat": 4,
 "nbformat_minor": 2
}
